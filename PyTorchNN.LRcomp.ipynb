{
 "cells": [
  {
   "cell_type": "markdown",
   "metadata": {},
   "source": [
    "This file tests different lr's to see which performs the best"
   ]
  },
  {
   "cell_type": "code",
   "execution_count": 1,
   "metadata": {},
   "outputs": [],
   "source": [
    "import torch\n",
    "import torch.nn as nn\n",
    "import torch.optim as optim\n",
    "import pandas as pd\n",
    "from sklearn.model_selection import train_test_split\n",
    "from sklearn.metrics import accuracy_score, confusion_matrix\n",
    "import numpy as np\n",
    "from sklearn.preprocessing import MinMaxScaler\n",
    "import seaborn as sns\n",
    "import matplotlib.pyplot as plt"
   ]
  },
  {
   "cell_type": "code",
   "execution_count": 2,
   "metadata": {},
   "outputs": [],
   "source": [
    "\"\"\" This is the part of the file where it gets the data, transforms it into numbers, \n",
    "normalizes it, transfroms to tensors and gets the training and testing data\"\"\"\n",
    "\n",
    "#Import the Data set\n",
    "df = pd.read_csv(\"data\\\\Traffic.csv\")\n",
    "\n",
    "#Get the inputs and target\n",
    "X = df.drop(columns=\"Traffic Situation\")\n",
    "y = df[\"Traffic Situation\"]\n",
    "\n",
    "#There is only 31 days in the data, so we project it onto this circle\n",
    "X[\"day_of_the_month_sin\"] = np.sin(2 * np.pi * X[\"Date\"] / 31)\n",
    "X[\"day_of_the_month_cos\"] = np.cos(2 * np.pi * X[\"Date\"] / 31)\n",
    "X = X.drop(columns=\"Date\")\n",
    "\n",
    "# Well use this mappng to change the data into numerics\n",
    "day_mapping = {\n",
    "    'Monday': 0,\n",
    "    'Tuesday': 1,\n",
    "    'Wednesday': 2,\n",
    "    'Thursday': 3,\n",
    "    'Friday': 4,\n",
    "    'Saturday': 5,\n",
    "    'Sunday': 6\n",
    "}\n",
    "\n",
    "X['Day of the week'] = X['Day of the week'].map(day_mapping)\n",
    "\n",
    "#For the Time, I want to module it all as a cylce\n",
    "X[\"hour\"] = pd.to_datetime(X[\"Time\"], format='%I:%M:%S %p').dt.hour  \n",
    "X[\"minute\"] = pd.to_datetime(X[\"Time\"], format='%I:%M:%S %p').dt.minute  \n",
    "X[\"Time\"] = X[\"hour\"] * 60 + X[\"minute\"]\n",
    "\n",
    "X[\"Time_sin\"] = np.sin(2 * np.pi * X[\"Time\"] / 1425)\n",
    "X[\"Time_cos\"] = np.cos(2 * np.pi * X[\"Time\"] / 1425)\n",
    "X = X.drop(columns=['hour', 'minute', 'Time'])\n",
    "\n",
    "#Change the target to numericas\n",
    "target_mapping = {\n",
    "    'heavy': 0,\n",
    "    'high' : 1,\n",
    "    'normal' : 2,\n",
    "    'low' : 3\n",
    "}\n",
    "\n",
    "y = y.map(target_mapping)\n",
    "\n",
    "#Set the scalar to normalize data\n",
    "scaler = MinMaxScaler()\n",
    "\n",
    "columns_to_normalize = ['Day of the week', 'CarCount', 'BikeCount', 'BusCount', 'TruckCount', 'Total', \n",
    "                        'day_of_the_month_sin', 'day_of_the_month_cos', 'Time_sin', 'Time_cos']\n",
    "\n",
    "# Normalize the data\n",
    "X[columns_to_normalize] = scaler.fit_transform(X[columns_to_normalize])\n",
    "\n",
    "#Finally Convert the data to tensors\n",
    "X_tensor = torch.tensor(X.values, dtype=torch.float32)\n",
    "y_tensor = torch.tensor(y.values, dtype=torch.long)\n",
    "\n",
    "#Get the training and test data\n",
    "X_train, X_test, y_train, y_test = train_test_split(X_tensor, y_tensor, train_size=0.2, random_state=42)"
   ]
  },
  {
   "cell_type": "code",
   "execution_count": 3,
   "metadata": {},
   "outputs": [],
   "source": [
    "class TrafficNN(nn.Module):\n",
    "    def __init__(self):\n",
    "        super(TrafficNN, self).__init__()\n",
    "        self.layer1 = nn.Linear(10,20)\n",
    "        self.layer2 = nn.Linear(20,10)\n",
    "        self.layer3 = nn.Linear(10,4)\n",
    "        self.activation = nn.ReLU()\n",
    "    def forward(self, x):\n",
    "        x = self.activation(self.layer1(x))\n",
    "        x = self.activation(self.layer2(x))\n",
    "        x = self.layer3(x)\n",
    "        return x"
   ]
  },
  {
   "cell_type": "code",
   "execution_count": 4,
   "metadata": {},
   "outputs": [],
   "source": [
    "def lr_tester(lr_list: list, model_class: type, epochs: int):\n",
    "    \n",
    "    best_lr = 0.0\n",
    "    best_accuracy = 0.0\n",
    "    best_model = None\n",
    "    criterion = nn.CrossEntropyLoss()\n",
    "    models = [model_class() for _ in lr_list]\n",
    "\n",
    "    for i in range(len(lr_list)):\n",
    "        model = models[i]\n",
    "        optimizer = optim.Adam(model.parameters(), lr=lr_list[i]) \n",
    "        \n",
    "        model.train()\n",
    "\n",
    "        for epoch in range(epochs):\n",
    "            optimizer.zero_grad()\n",
    "            outputs = model(X_train) \n",
    "            loss = criterion(outputs, y_train) \n",
    "            loss.backward() \n",
    "            optimizer.step() \n",
    "        \n",
    "        model.eval()\n",
    "\n",
    "        with torch.no_grad():\n",
    "            outputs = model(X_test)  # Forward pass\n",
    "            predictions = torch.argmax(outputs, dim=1)  \n",
    "        accuracy = accuracy_score(y_test.numpy(), predictions.numpy())\n",
    "        print(f\"Lr: {lr_list[i]}, Accuracy: {accuracy:.4f}\")\n",
    "\n",
    "        if accuracy > best_accuracy:\n",
    "            best_accuracy = accuracy\n",
    "            best_lr = lr_list[i]\n",
    "            best_model = model\n",
    "    \n",
    "    return best_lr, best_accuracy, best_model\n",
    "\n",
    "        \n",
    "\n"
   ]
  },
  {
   "cell_type": "markdown",
   "metadata": {},
   "source": [
    "As you can see in the tests below and lr from 0.005 to 0.05 seems to work the best. Doing repeated tests generates different roles each times"
   ]
  },
  {
   "cell_type": "code",
   "execution_count": 5,
   "metadata": {},
   "outputs": [
    {
     "name": "stdout",
     "output_type": "stream",
     "text": [
      "Lr: 0.0001, Accuracy: 0.7173\n",
      "Lr: 0.0005, Accuracy: 0.8005\n",
      "Lr: 0.001, Accuracy: 0.8870\n",
      "Lr: 0.005, Accuracy: 0.9105\n",
      "Lr: 0.01, Accuracy: 0.9189\n",
      "Lr: 0.05, Accuracy: 0.9399\n",
      "Lr: 0.1, Accuracy: 0.8916\n",
      "Lr: 0.5, Accuracy: 0.5636\n",
      "Lr: 1.0, Accuracy: 0.5636\n",
      "0.05 0.9399412011759765\n"
     ]
    }
   ],
   "source": [
    "lr_list = [0.0001, 0.0005, 0.001, 0.005, 0.01, 0.05, 0.1, 0.5, 1.0]\n",
    "\n",
    "best_lr, best_accuracy, best_model = lr_tester(lr_list, TrafficNN, 1000)\n",
    "print(best_lr, best_accuracy)"
   ]
  },
  {
   "cell_type": "code",
   "execution_count": 6,
   "metadata": {},
   "outputs": [
    {
     "name": "stdout",
     "output_type": "stream",
     "text": [
      "Model Accuracy: 0.9399\n"
     ]
    },
    {
     "data": {
      "image/png": "[encoded data removed]",
      "text/plain": [
       "<Figure size 600x600 with 2 Axes>"
      ]
     },
     "metadata": {},
     "output_type": "display_data"
    }
   ],
   "source": [
    "best_model.eval()\n",
    "\n",
    "with torch.no_grad():\n",
    "    outputs = best_model(X_test)  # Forward pass\n",
    "    predictions = torch.argmax(outputs, dim=1)  \n",
    "\n",
    "# Compute accuracy\n",
    "accuracy = accuracy_score(y_test.numpy(), predictions.numpy())\n",
    "print(f\"Model Accuracy: {accuracy:.4f}\")\n",
    "\n",
    "# Compute confusion matrix\n",
    "cm = confusion_matrix(y_test.numpy(), predictions.numpy())\n",
    "\n",
    "# Plot confusion matrix\n",
    "plt.figure(figsize=(6, 6))\n",
    "sns.heatmap(cm, annot=True, fmt='d', cmap='Blues', xticklabels=target_mapping.keys(), yticklabels=target_mapping.keys())\n",
    "plt.xlabel(\"Predicted Label\")\n",
    "plt.ylabel(\"True Label\")\n",
    "plt.title(\"Confusion Matrix\")\n",
    "plt.show()"
   ]
  }
 ],
 "metadata": {
  "kernelspec": {
   "display_name": "Python 3",
   "language": "python",
   "name": "python3"
  },
  "language_info": {
   "codemirror_mode": {
    "name": "ipython",
    "version": 3
   },
   "file_extension": ".py",
   "mimetype": "text/x-python",
   "name": "python",
   "nbconvert_exporter": "python",
   "pygments_lexer": "ipython3",
   "version": "3.12.3"
  }
 },
 "nbformat": 4,
 "nbformat_minor": 2
}
