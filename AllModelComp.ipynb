{
 "cells": [
  {
   "cell_type": "markdown",
   "metadata": {},
   "source": [
    "This Compares all the models"
   ]
  },
  {
   "cell_type": "code",
   "execution_count": 4,
   "metadata": {},
   "outputs": [],
   "source": [
    "import numpy as np\n",
    "import pandas as pd\n",
    "import matplotlib.pyplot as plt\n",
    "\n",
    "from sklearn.model_selection import train_test_split, cross_val_score, GridSearchCV\n",
    "from sklearn.ensemble import RandomForestClassifier, GradientBoostingClassifier\n",
    "from sklearn.linear_model import LogisticRegression\n",
    "from sklearn.pipeline import Pipeline\n",
    "from sklearn.compose import ColumnTransformer\n",
    "from sklearn.preprocessing import StandardScaler, OneHotEncoder, MinMaxScaler\n",
    "from sklearn.svm import SVC\n",
    "from sklearn.metrics import (accuracy_score, balanced_accuracy_score, precision_score, recall_score, \n",
    "                             f1_score, log_loss, brier_score_loss, roc_auc_score, roc_curve, \n",
    "                             precision_recall_curve, confusion_matrix, ConfusionMatrixDisplay)\n",
    "\n",
    "import torch\n",
    "import torch.nn as nn\n",
    "import torch.optim as optim\n",
    "\n",
    "from xgboost import XGBClassifier"
   ]
  },
  {
   "cell_type": "code",
   "execution_count": null,
   "metadata": {},
   "outputs": [],
   "source": [
    "#Define a list where we will keep all of the data\n",
    "model_performances = []\n",
    "\n",
    "#Define the df\n",
    "df = pd.read_csv(\"data\\\\Traffic.csv\")"
   ]
  },
  {
   "cell_type": "markdown",
   "metadata": {},
   "source": [
    "This section will hadel the NN"
   ]
  },
  {
   "cell_type": "code",
   "execution_count": null,
   "metadata": {},
   "outputs": [],
   "source": [
    "\"\"\"\n",
    "Prepare the data for the NN\n",
    "\"\"\"\n",
    "X = df.drop(columns=\"Traffic Situation\")\n",
    "y = df[\"Traffic Situation\"]\n",
    "\n",
    "X[\"day_of_the_month_sin\"] = np.sin(2 * np.pi * X[\"Date\"] / 31)\n",
    "X[\"day_of_the_month_cos\"] = np.cos(2 * np.pi * X[\"Date\"] / 31)\n",
    "X = X.drop(columns=\"Date\")\n",
    "\n",
    "day_mapping = {\n",
    "    'Monday': 0,\n",
    "    'Tuesday': 1,\n",
    "    'Wednesday': 2,\n",
    "    'Thursday': 3,\n",
    "    'Friday': 4,\n",
    "    'Saturday': 5,\n",
    "    'Sunday': 6\n",
    "}\n",
    "\n",
    "X['Day of the week'] = X['Day of the week'].map(day_mapping)\n",
    "\n",
    "X[\"hour\"] = pd.to_datetime(X[\"Time\"], format='%I:%M:%S %p').dt.hour  \n",
    "X[\"minute\"] = pd.to_datetime(X[\"Time\"], format='%I:%M:%S %p').dt.minute  \n",
    "X[\"Time\"] = X[\"hour\"] * 60 + X[\"minute\"]\n",
    "\n",
    "X[\"Time_sin\"] = np.sin(2 * np.pi * X[\"Time\"] / 1425)\n",
    "X[\"Time_cos\"] = np.cos(2 * np.pi * X[\"Time\"] / 1425)\n",
    "X = X.drop(columns=['hour', 'minute', 'Time'])\n",
    "\n",
    "target_mapping = {\n",
    "    'heavy': 0,\n",
    "    'high' : 1,\n",
    "    'normal' : 2,\n",
    "    'low' : 3\n",
    "}\n",
    "\n",
    "y = y.map(target_mapping)\n",
    "\n",
    "scaler = MinMaxScaler()\n",
    "\n",
    "columns_to_normalize = ['Day of the week', 'CarCount', 'BikeCount', 'BusCount', 'TruckCount', 'Total', \n",
    "                        'day_of_the_month_sin', 'day_of_the_month_cos', 'Time_sin', 'Time_cos']\n",
    "\n",
    "X[columns_to_normalize] = scaler.fit_transform(X[columns_to_normalize])\n",
    "\n",
    "X_tensor = torch.tensor(X.values, dtype=torch.float32)\n",
    "y_tensor = torch.tensor(y.values, dtype=torch.long)\n",
    "\n",
    "X_train, X_test, y_train, y_test = train_test_split(X_tensor, y_tensor, train_size=0.2, random_state=42)"
   ]
  },
  {
   "cell_type": "code",
   "execution_count": 7,
   "metadata": {},
   "outputs": [],
   "source": [
    "class TrafficNN(nn.Module):\n",
    "    def __init__(self):\n",
    "        super(TrafficNN, self).__init__()\n",
    "        self.layer1 = nn.Linear(10,20)\n",
    "        self.layer2 = nn.Linear(20,10)\n",
    "        self.layer3 = nn.Linear(10,4)\n",
    "        self.activation = nn.ReLU()\n",
    "    def forward(self, x):\n",
    "        x = self.activation(self.layer1(x))\n",
    "        x = self.activation(self.layer2(x))\n",
    "        x = self.layer3(x)\n",
    "        return x"
   ]
  },
  {
   "cell_type": "code",
   "execution_count": 8,
   "metadata": {},
   "outputs": [],
   "source": [
    "model = TrafficNN()\n",
    "criterion = nn.CrossEntropyLoss()\n",
    "optimizer = optim.Adam(model.parameters(), lr=0.001) \n",
    "\n",
    "#TODO, put in the optimal nn parameters once you find them\n",
    "\n",
    "epochs = 1000\n",
    "for epoch in range(epochs):\n",
    "    optimizer.zero_grad()\n",
    "    outputs = model(X_train) \n",
    "    loss = criterion(outputs, y_train) \n",
    "    loss.backward() \n",
    "    optimizer.step() "
   ]
  },
  {
   "cell_type": "code",
   "execution_count": 9,
   "metadata": {},
   "outputs": [
    {
     "name": "stdout",
     "output_type": "stream",
     "text": [
      "Finished: NN\n"
     ]
    }
   ],
   "source": [
    "model.eval()\n",
    "\n",
    "with torch.no_grad():\n",
    "    outputs = model(X_test)  # Forward pass\n",
    "    y_pred = torch.argmax(outputs, dim=1)\n",
    "\n",
    "y_pred = y_pred.numpy()\n",
    "\n",
    "accuracy = accuracy_score(y_test, y_pred)\n",
    "balanced_acc = balanced_accuracy_score(y_test, y_pred)\n",
    "precision = precision_score(y_test, y_pred, average='weighted')\n",
    "recall = recall_score(y_test, y_pred, average='weighted')\n",
    "f1 = f1_score(y_test, y_pred, average='weighted')\n",
    "\n",
    "model_performances.append([\"NN\", accuracy, balanced_acc, precision, recall, f1])\n",
    "\n",
    "print(f\"Finished: NN\") "
   ]
  },
  {
   "cell_type": "markdown",
   "metadata": {},
   "source": [
    "This section will handel the Pipelines"
   ]
  },
  {
   "cell_type": "code",
   "execution_count": 12,
   "metadata": {},
   "outputs": [],
   "source": [
    "\"\"\"\n",
    "This cell gets the data ready to get passed into a pipeline\n",
    "\"\"\"\n",
    "X = df.drop(columns=\"Traffic Situation\")\n",
    "y = df[\"Traffic Situation\"]\n",
    "\n",
    "day_mapping = {\n",
    "    'Monday': 0,\n",
    "    'Tuesday': 1,\n",
    "    'Wednesday': 2,\n",
    "    'Thursday': 3,\n",
    "    'Friday': 4,\n",
    "    'Saturday': 5,\n",
    "    'Sunday': 6\n",
    "}\n",
    "\n",
    "X['Day of the week'] = X['Day of the week'].map(day_mapping)\n",
    "\n",
    "X[\"hour\"] = pd.to_datetime(X[\"Time\"], format='%I:%M:%S %p').dt.hour  \n",
    "X[\"minute\"] = pd.to_datetime(X[\"Time\"], format='%I:%M:%S %p').dt.minute  \n",
    "X[\"Time\"] = X[\"hour\"] * 60 + X[\"minute\"]\n",
    "X = X.drop(columns=['hour', 'minute'])\n",
    "\n",
    "target_mapping = {\n",
    "    'heavy': 0,\n",
    "    'high' : 1,\n",
    "    'normal' : 2,\n",
    "    'low' : 3\n",
    "}\n",
    "\n",
    "y = y.map(target_mapping)\n",
    "\n",
    "X_train, X_test, y_train, y_test = train_test_split(X, y, train_size=0.2, random_state=42)"
   ]
  },
  {
   "cell_type": "code",
   "execution_count": 13,
   "metadata": {},
   "outputs": [],
   "source": [
    "numeric_features = ['Date', 'Time', 'CarCount', 'BikeCount', 'BusCount', 'TruckCount', 'Total']\n",
    "categorical_features = ['Day of the week']\n",
    "\n",
    "numerical_pipeline = Pipeline([\n",
    "    (\"scalar\", StandardScaler()) #We're gonna normalize the numeric data \n",
    "])\n",
    "\n",
    "categorical_pipeline = Pipeline([\n",
    "    (\"encoder\", OneHotEncoder(handle_unknown=\"ignore\")) #Shouldn't have to worry about unknowns \n",
    "])\n",
    "\n",
    "preprocessor = ColumnTransformer([\n",
    "    (\"num\", numerical_pipeline, numeric_features),\n",
    "    (\"cat\", categorical_pipeline, categorical_features)\n",
    "])"
   ]
  },
  {
   "cell_type": "code",
   "execution_count": 14,
   "metadata": {},
   "outputs": [],
   "source": [
    "SVC_pipeline = Pipeline([\n",
    "    (\"preprocessor\", preprocessor),\n",
    "    (\"svc\", SVC(\n",
    "        C = 100, \n",
    "        gamma = 'auto', \n",
    "        kernel = 'rbf'\n",
    "    ))\n",
    "])\n",
    "\n",
    "GBC_pipeline = Pipeline([\n",
    "    (\"preprocessor\", preprocessor),\n",
    "    ('gbc', GradientBoostingClassifier(\n",
    "        learning_rate = 0.1, \n",
    "        max_depth = 3, \n",
    "        max_features = 'log2', \n",
    "        n_estimators = 500, \n",
    "        subsample = 1.0\n",
    "    ))\n",
    "])\n",
    "\n",
    "LogReg_pipeline = Pipeline([\n",
    "    (\"preprocessor\", preprocessor),\n",
    "    ('logreg', LogisticRegression(\n",
    "        C = 100, \n",
    "        solver = 'lbfgs'\n",
    "    ))\n",
    "])\n",
    "\n",
    "RFC_pipeline = Pipeline([\n",
    "    (\"preprocessor\", preprocessor),\n",
    "    (\"classifier\", RandomForestClassifier(\n",
    "        max_depth = 10, \n",
    "        max_features = 'sqrt', \n",
    "        min_samples_leaf = 2, \n",
    "        min_samples_split = 2, \n",
    "        n_estimators = 100,\n",
    "        random_state = 42\n",
    "    ))\n",
    "])\n",
    "\n",
    "XGB_pipeline = Pipeline([\n",
    "    (\"preprocessor\", preprocessor),\n",
    "    (\"classifier\", XGBClassifier(\n",
    "        n_estimators=100, \n",
    "        learning_rate=0.1, \n",
    "        max_depth=3, \n",
    "        eval_metric=\"logloss\", \n",
    "        random_state=42,\n",
    "    ))\n",
    "])"
   ]
  },
  {
   "cell_type": "code",
   "execution_count": 15,
   "metadata": {},
   "outputs": [
    {
     "name": "stdout",
     "output_type": "stream",
     "text": [
      "Finished: SVC\n",
      "Finished: GBC\n",
      "Finished: Log\n",
      "Finished: RFC\n",
      "Finished: XGB\n"
     ]
    }
   ],
   "source": [
    "model_names = [\"SVC\", \"GBC\", \"Log\", \"RFC\", \"XGB\"]\n",
    "models = [SVC_pipeline, GBC_pipeline, LogReg_pipeline, RFC_pipeline, XGB_pipeline]\n",
    "\n",
    "for name, model in zip(model_names, models):\n",
    "    model.fit(X_train, y_train)\n",
    "    y_pred = model.predict(X_test)\n",
    "\n",
    "    accuracy = accuracy_score(y_test, y_pred)\n",
    "    balanced_acc = balanced_accuracy_score(y_test, y_pred)\n",
    "    precision = precision_score(y_test, y_pred, average='weighted')\n",
    "    recall = recall_score(y_test, y_pred, average='weighted')\n",
    "    f1 = f1_score(y_test, y_pred, average='weighted')\n",
    "\n",
    "    model_performances.append([name, accuracy, balanced_acc, precision, recall, f1])\n",
    "\n",
    "    print(f\"Finished: {name}\")   "
   ]
  },
  {
   "cell_type": "markdown",
   "metadata": {},
   "source": [
    "This section will hand Statsmodels"
   ]
  },
  {
   "cell_type": "markdown",
   "metadata": {},
   "source": [
    "This is where the visualization of all the data will be visualized"
   ]
  },
  {
   "cell_type": "code",
   "execution_count": null,
   "metadata": {},
   "outputs": [
    {
     "name": "stdout",
     "output_type": "stream",
     "text": [
      "NN: 0.9026\n",
      "SVC: 0.8950\n",
      "GBC: 0.9941\n",
      "Log: 0.8925\n",
      "RFC: 0.9744\n",
      "XGB: 0.9966\n"
     ]
    },
    {
     "data": {
      "image/png": "[encoded data removed]",
      "text/plain": [
       "<Figure size 640x480 with 1 Axes>"
      ]
     },
     "metadata": {},
     "output_type": "display_data"
    }
   ],
   "source": [
    "models = [name[0] for name in model_performances]\n",
    "scores = [score[1] for score in model_performances]\n",
    "\n",
    "colors = [\"#3498DB\"] * len(models)\n",
    "\n",
    "colors[np.argmax(scores)] = \"#FF5733\"\n",
    "\n",
    "\n",
    "plt.bar(models, scores, color=colors)\n",
    "plt.title(\"Accuracy Score\")\n",
    "plt.ylabel(\"Score\")\n",
    "plt.xlabel(\"Model\")\n",
    "\n",
    "print(\"Accuracy Scores\")\n",
    "for name, score in zip(models, scores):\n",
    "    print(f\"{name}: {score:.4f}\")\n",
    "\n",
    "plt.show()\n"
   ]
  },
  {
   "cell_type": "code",
   "execution_count": 41,
   "metadata": {},
   "outputs": [
    {
     "name": "stdout",
     "output_type": "stream",
     "text": [
      "Balanced Accuracy Scores\n",
      "NN: 0.8512\n",
      "SVC: 0.8667\n",
      "GBC: 0.9937\n",
      "Log: 0.8464\n",
      "RFC: 0.9526\n",
      "XGB: 0.9985\n"
     ]
    },
    {
     "data": {
      "image/png": "[encoded data removed]",
      "text/plain": [
       "<Figure size 640x480 with 1 Axes>"
      ]
     },
     "metadata": {},
     "output_type": "display_data"
    }
   ],
   "source": [
    "models = [name[0] for name in model_performances]\n",
    "scores = [score[2] for score in model_performances]\n",
    "\n",
    "colors = [\"#3498DB\"] * len(models)\n",
    "\n",
    "colors[np.argmax(scores)] = \"#FF5733\"\n",
    "\n",
    "\n",
    "plt.bar(models, scores, color=colors)\n",
    "plt.title(\"Balanced Accuracy Score\")\n",
    "plt.ylabel(\"Score\")\n",
    "plt.xlabel(\"Model\")\n",
    "\n",
    "print(\"Balanced Accuracy Scores\")\n",
    "for name, score in zip(models, scores):\n",
    "    print(f\"{name}: {score:.4f}\")\n",
    "\n",
    "plt.show()\n"
   ]
  },
  {
   "cell_type": "code",
   "execution_count": 45,
   "metadata": {},
   "outputs": [
    {
     "name": "stdout",
     "output_type": "stream",
     "text": [
      "Precision\n",
      "NN: 0.9018\n",
      "SVC: 0.8966\n",
      "GBC: 0.9941\n",
      "Log: 0.8913\n",
      "RFC: 0.9747\n",
      "XGB: 0.9967\n"
     ]
    },
    {
     "data": {
      "image/png": "[encoded data removed]",
      "text/plain": [
       "<Figure size 640x480 with 1 Axes>"
      ]
     },
     "metadata": {},
     "output_type": "display_data"
    }
   ],
   "source": [
    "models = [name[0] for name in model_performances]\n",
    "scores = [score[3] for score in model_performances]\n",
    "\n",
    "colors = [\"#3498DB\"] * len(models)\n",
    "\n",
    "colors[np.argmax(scores)] = \"#FF5733\"\n",
    "\n",
    "\n",
    "plt.bar(models, scores, color=colors)\n",
    "plt.title(\"Precision\")\n",
    "plt.ylabel(\"Score\")\n",
    "plt.xlabel(\"Model\")\n",
    "\n",
    "print(\"Precision\")\n",
    "for name, score in zip(models, scores):\n",
    "    print(f\"{name}: {score:.4f}\")\n",
    "\n",
    "plt.show()\n"
   ]
  },
  {
   "cell_type": "code",
   "execution_count": 44,
   "metadata": {},
   "outputs": [
    {
     "name": "stdout",
     "output_type": "stream",
     "text": [
      "Recall\n",
      "NN: 0.9026\n",
      "SVC: 0.8950\n",
      "GBC: 0.9941\n",
      "Log: 0.8925\n",
      "RFC: 0.9744\n",
      "XGB: 0.9966\n"
     ]
    },
    {
     "data": {
      "image/png": "[encoded data removed]",
      "text/plain": [
       "<Figure size 640x480 with 1 Axes>"
      ]
     },
     "metadata": {},
     "output_type": "display_data"
    }
   ],
   "source": [
    "models = [name[0] for name in model_performances]\n",
    "scores = [score[4] for score in model_performances]\n",
    "\n",
    "colors = [\"#3498DB\"] * len(models)\n",
    "\n",
    "colors[np.argmax(scores)] = \"#FF5733\"\n",
    "\n",
    "\n",
    "plt.bar(models, scores, color=colors)\n",
    "plt.title(\"Recall\")\n",
    "plt.ylabel(\"Score\")\n",
    "plt.xlabel(\"Model\")\n",
    "\n",
    "print(\"Recall\")\n",
    "for name, score in zip(models, scores):\n",
    "    print(f\"{name}: {score:.4f}\")\n",
    "\n",
    "plt.show()\n"
   ]
  },
  {
   "cell_type": "code",
   "execution_count": 43,
   "metadata": {},
   "outputs": [
    {
     "name": "stdout",
     "output_type": "stream",
     "text": [
      "F1\n",
      "NN: 0.8997\n",
      "SVC: 0.8942\n",
      "GBC: 0.9941\n",
      "Log: 0.8911\n",
      "RFC: 0.9736\n",
      "XGB: 0.9966\n"
     ]
    },
    {
     "data": {
      "image/png": "[encoded data removed]",
      "text/plain": [
       "<Figure size 640x480 with 1 Axes>"
      ]
     },
     "metadata": {},
     "output_type": "display_data"
    }
   ],
   "source": [
    "models = [name[0] for name in model_performances]\n",
    "scores = [score[5] for score in model_performances]\n",
    "\n",
    "colors = [\"#3498DB\"] * len(models)\n",
    "\n",
    "colors[np.argmax(scores)] = \"#FF5733\"\n",
    "\n",
    "\n",
    "plt.bar(models, scores, color=colors)\n",
    "plt.title(\"F1\")\n",
    "plt.ylabel(\"Score\")\n",
    "plt.xlabel(\"Model\")\n",
    "\n",
    "print(\"F1\")\n",
    "for name, score in zip(models, scores):\n",
    "    print(f\"{name}: {score:.4f}\")\n",
    "\n",
    "plt.show()\n"
   ]
  }
 ],
 "metadata": {
  "kernelspec": {
   "display_name": "Python 3",
   "language": "python",
   "name": "python3"
  },
  "language_info": {
   "codemirror_mode": {
    "name": "ipython",
    "version": 3
   },
   "file_extension": ".py",
   "mimetype": "text/x-python",
   "name": "python",
   "nbconvert_exporter": "python",
   "pygments_lexer": "ipython3",
   "version": "3.12.3"
  }
 },
 "nbformat": 4,
 "nbformat_minor": 2
}
