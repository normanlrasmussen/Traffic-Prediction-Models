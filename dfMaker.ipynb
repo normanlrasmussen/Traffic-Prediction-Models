{
 "cells": [
  {
   "cell_type": "code",
   "execution_count": 2,
   "metadata": {},
   "outputs": [],
   "source": [
    "import pandas as pd"
   ]
  },
  {
   "cell_type": "code",
   "execution_count": 3,
   "metadata": {},
   "outputs": [
    {
     "name": "stdout",
     "output_type": "stream",
     "text": [
      "          Time  Date Day of the week  CarCount  BikeCount  BusCount  \\\n",
      "0  12:00:00 AM    10         Tuesday        31          0         4   \n",
      "1  12:15:00 AM    10         Tuesday        49          0         3   \n",
      "2  12:30:00 AM    10         Tuesday        46          0         3   \n",
      "3  12:45:00 AM    10         Tuesday        51          0         2   \n",
      "4   1:00:00 AM    10         Tuesday        57          6        15   \n",
      "\n",
      "   TruckCount  Total Traffic Situation  \n",
      "0           4     39               low  \n",
      "1           3     55               low  \n",
      "2           6     55               low  \n",
      "3           5     58               low  \n",
      "4          16     94            normal  \n"
     ]
    }
   ],
   "source": [
    "df = pd.read_csv(\"data\\\\Traffic.csv\")\n",
    "print(df.head())"
   ]
  },
  {
   "cell_type": "code",
   "execution_count": 4,
   "metadata": {},
   "outputs": [
    {
     "name": "stdout",
     "output_type": "stream",
     "text": [
      "          Time  Date Day of the week  CarCount  BikeCount  BusCount  \\\n",
      "0  12:00:00 AM    10         Tuesday        13          2         2   \n",
      "1  12:15:00 AM    10         Tuesday        14          1         1   \n",
      "2  12:30:00 AM    10         Tuesday        10          2         2   \n",
      "3  12:45:00 AM    10         Tuesday        10          2         2   \n",
      "4   1:00:00 AM    10         Tuesday        11          2         1   \n",
      "\n",
      "   TruckCount  Total Traffic Situation  \n",
      "0          24     41            normal  \n",
      "1          36     52            normal  \n",
      "2          32     46            normal  \n",
      "3          36     50            normal  \n",
      "4          34     48            normal  \n"
     ]
    }
   ],
   "source": [
    "df1 = pd.read_csv(\"data\\\\TrafficTwoMonth.csv\")\n",
    "print(df1.head())"
   ]
  },
  {
   "cell_type": "code",
   "execution_count": 8,
   "metadata": {},
   "outputs": [
    {
     "name": "stdout",
     "output_type": "stream",
     "text": [
      "Time                 object\n",
      "Date                  int64\n",
      "Day of the week      object\n",
      "CarCount              int64\n",
      "BikeCount             int64\n",
      "BusCount              int64\n",
      "TruckCount            int64\n",
      "Total                 int64\n",
      "Traffic Situation    object\n",
      "dtype: object\n"
     ]
    }
   ],
   "source": [
    "print(df.dtypes)"
   ]
  }
 ],
 "metadata": {
  "kernelspec": {
   "display_name": "Python 3",
   "language": "python",
   "name": "python3"
  },
  "language_info": {
   "codemirror_mode": {
    "name": "ipython",
    "version": 3
   },
   "file_extension": ".py",
   "mimetype": "text/x-python",
   "name": "python",
   "nbconvert_exporter": "python",
   "pygments_lexer": "ipython3",
   "version": "3.12.3"
  }
 },
 "nbformat": 4,
 "nbformat_minor": 2
}
