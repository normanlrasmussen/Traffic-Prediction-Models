{
 "cells": [
  {
   "cell_type": "code",
   "execution_count": 1,
   "metadata": {},
   "outputs": [],
   "source": [
    "import torch\n",
    "import torch.nn as nn\n",
    "import torch.optim as optim\n",
    "import pandas as pd\n",
    "from sklearn.model_selection import train_test_split\n",
    "import numpy as np"
   ]
  },
  {
   "cell_type": "code",
   "execution_count": 2,
   "metadata": {},
   "outputs": [
    {
     "name": "stdout",
     "output_type": "stream",
     "text": [
      "          Time  Date Day of the week  CarCount  BikeCount  BusCount  \\\n",
      "0  12:00:00 AM    10         Tuesday        31          0         4   \n",
      "1  12:15:00 AM    10         Tuesday        49          0         3   \n",
      "2  12:30:00 AM    10         Tuesday        46          0         3   \n",
      "3  12:45:00 AM    10         Tuesday        51          0         2   \n",
      "4   1:00:00 AM    10         Tuesday        57          6        15   \n",
      "\n",
      "   TruckCount  Total Traffic Situation  \n",
      "0           4     39               low  \n",
      "1           3     55               low  \n",
      "2           6     55               low  \n",
      "3           5     58               low  \n",
      "4          16     94            normal  \n"
     ]
    }
   ],
   "source": [
    "#Import the Data set\n",
    "df = pd.read_csv(\"data\\\\Traffic.csv\")\n",
    "\n",
    "print(df.head())"
   ]
  },
  {
   "cell_type": "code",
   "execution_count": 3,
   "metadata": {},
   "outputs": [],
   "source": [
    "#Get the inputs and target\n",
    "X = df.drop(columns=\"Traffic Situation\")\n",
    "y = df[\"Traffic Situation\"]\n",
    "\n",
    "#We need to convert the \"Time\". \"Date\", \"Day of the week\" into readable data.\n",
    "#We can project it onto a circle and use this data as features in order to preserve \n",
    "\n",
    "\n",
    "#There is only 31 days in the data, so we project it onto this circle\n",
    "X[\"day_of_the_month_sin\"] = np.sin(2 * np.pi * X[\"Date\"] / 31)\n",
    "X[\"day_of_the_month_cos\"] = np.cos(2 * np.pi * X[\"Date\"] / 31)\n",
    "X = X.drop(columns=\"Date\")\n",
    "\n",
    "# Well use this mappng to change the data into numerics\n",
    "day_mapping = {\n",
    "    'Monday': 0,\n",
    "    'Tuesday': 1,\n",
    "    'Wednesday': 2,\n",
    "    'Thursday': 3,\n",
    "    'Friday': 4,\n",
    "    'Saturday': 5,\n",
    "    'Sunday': 6\n",
    "}\n",
    "\n",
    "X['Day of the week'] = X['Day of the week'].map(day_mapping)\n",
    "\n",
    "#For the Time, I want to module it all as a cylce\n",
    "X[\"hour\"] = pd.to_datetime(X[\"Time\"], format='%I:%M:%S %p').dt.hour  \n",
    "X[\"minute\"] = pd.to_datetime(X[\"Time\"], format='%I:%M:%S %p').dt.minute  \n",
    "X[\"Time\"] = X[\"hour\"] * 60 + X[\"minute\"]\n",
    "\n",
    "\n",
    "X[\"Time_sin\"] = np.sin(2 * np.pi * X[\"Time\"] / 1425)\n",
    "X[\"Time_cos\"] = np.cos(2 * np.pi * X[\"Time\"] / 1425)\n",
    "X = X.drop(columns=['hour', 'minute', 'Time'])\n",
    "\n",
    "#Change the target to numericas\n",
    "target_mapping = {\n",
    "    'heavy': 0,\n",
    "    'high' : 1,\n",
    "    'normal' : 2,\n",
    "    'low' : 3\n",
    "}\n",
    "\n",
    "y = y.map(target_mapping)"
   ]
  },
  {
   "cell_type": "code",
   "execution_count": 4,
   "metadata": {},
   "outputs": [
    {
     "name": "stdout",
     "output_type": "stream",
     "text": [
      "Day of the week           int64\n",
      "CarCount                  int64\n",
      "BikeCount                 int64\n",
      "BusCount                  int64\n",
      "TruckCount                int64\n",
      "Total                     int64\n",
      "day_of_the_month_sin    float64\n",
      "day_of_the_month_cos    float64\n",
      "Time_sin                float64\n",
      "Time_cos                float64\n",
      "dtype: object\n",
      "int64\n"
     ]
    }
   ],
   "source": [
    "print(X.dtypes)\n",
    "print(y.dtypes)"
   ]
  },
  {
   "cell_type": "code",
   "execution_count": 5,
   "metadata": {},
   "outputs": [
    {
     "name": "stdout",
     "output_type": "stream",
     "text": [
      "   Day of the week  CarCount  BikeCount  BusCount  TruckCount     Total  \\\n",
      "0         0.166667  0.143678   0.000000      0.08       0.100  0.069767   \n",
      "1         0.166667  0.247126   0.000000      0.06       0.075  0.131783   \n",
      "2         0.166667  0.229885   0.000000      0.06       0.150  0.131783   \n",
      "3         0.166667  0.258621   0.000000      0.04       0.125  0.143411   \n",
      "4         0.166667  0.293103   0.085714      0.30       0.400  0.282946   \n",
      "\n",
      "   day_of_the_month_sin  day_of_the_month_cos  Time_sin  Time_cos  \n",
      "0              0.949479              0.277951  0.500000  1.000000  \n",
      "1              0.949479              0.277951  0.533050  0.998907  \n",
      "2              0.949479              0.277951  0.565955  0.995631  \n",
      "3              0.949479              0.277951  0.598572  0.990187  \n",
      "4              0.949479              0.277951  0.630758  0.982600  \n"
     ]
    }
   ],
   "source": [
    "#TODO Check these 3 different prepossers on the Data\n",
    "from sklearn.preprocessing import MinMaxScaler, StandardScaler, RobustScaler\n",
    "\n",
    "# Chose a scaler\n",
    "scaler = MinMaxScaler()\n",
    "# scaler = StandardScaler()\n",
    "# scaler = RobustScaler()\n",
    "\n",
    "# Put all the columns in so I can normalize them\n",
    "columns_to_normalize = ['Day of the week', 'CarCount', 'BikeCount', 'BusCount', 'TruckCount', 'Total', \n",
    "                        'day_of_the_month_sin', 'day_of_the_month_cos', 'Time_sin', 'Time_cos']\n",
    "\n",
    "# Normalize the data\n",
    "X[columns_to_normalize] = scaler.fit_transform(X[columns_to_normalize])\n",
    "\n",
    "# Simple check\n",
    "print(X.head())\n"
   ]
  },
  {
   "cell_type": "code",
   "execution_count": 6,
   "metadata": {},
   "outputs": [],
   "source": [
    "#Now I need to convert the data into Tensor\n",
    "X_tensor = torch.tensor(X.values, dtype=torch.float32)\n",
    "y_tensor = torch.tensor(y.values, dtype=torch.long)"
   ]
  },
  {
   "cell_type": "code",
   "execution_count": 7,
   "metadata": {},
   "outputs": [
    {
     "name": "stdout",
     "output_type": "stream",
     "text": [
      "(2976, 10)\n",
      "torch.Size([2976, 10])\n",
      "(2976,)\n",
      "torch.Size([2976])\n"
     ]
    }
   ],
   "source": [
    "print(X.shape)\n",
    "print(X_tensor.shape)\n",
    "print(y.shape)\n",
    "print(y_tensor.shape)"
   ]
  },
  {
   "cell_type": "code",
   "execution_count": 8,
   "metadata": {},
   "outputs": [],
   "source": [
    "\n",
    "#Get the training and test data\n",
    "X_train, X_test, y_train, y_test = train_test_split(X_tensor, y_tensor, train_size=0.2, random_state=42)"
   ]
  },
  {
   "cell_type": "code",
   "execution_count": null,
   "metadata": {},
   "outputs": [],
   "source": [
    "class TrafficNN(nn.Module):\n",
    "    def __init__(self):\n",
    "        super(TrafficNN, self).__init__()\n",
    "        #8 feautures to 4 outputs\n",
    "        #TODO Try different layer combinations\n",
    "        self.layer1 = nn.Linear(10,20)\n",
    "        self.layer2 = nn.Linear(20,10)\n",
    "        self.layer3 = nn.Linear(10,4)\n",
    "        self.activation = nn.ReLU()\n",
    "    def forward(self, x):\n",
    "        #TODO Add in dropping Nodes\n",
    "        x = self.activation(self.layer1(x))\n",
    "        x = self.activation(self.layer2(x))\n",
    "        x = self.layer3(x)\n",
    "        return x\n",
    "    \n",
    "model = TrafficNN()"
   ]
  },
  {
   "cell_type": "code",
   "execution_count": 10,
   "metadata": {},
   "outputs": [],
   "source": [
    "# Define loss function\n",
    "criterion = nn.CrossEntropyLoss()\n",
    "#TODO Try different lr and decaying learning rates/different optimizers\n",
    "optimizer = optim.Adam(model.parameters(), lr=0.001) "
   ]
  },
  {
   "cell_type": "code",
   "execution_count": 11,
   "metadata": {},
   "outputs": [],
   "source": [
    "#Actually train the model\n",
    "#TODO experiment with epochs\n",
    "epochs = 1000\n",
    "for epoch in range(epochs):\n",
    "    optimizer.zero_grad()\n",
    "    outputs = model(X_train)\n",
    "    loss = criterion(outputs, y_train)\n",
    "    loss.backward()\n",
    "    optimizer.step()"
   ]
  },
  {
   "cell_type": "code",
   "execution_count": 12,
   "metadata": {},
   "outputs": [
    {
     "name": "stdout",
     "output_type": "stream",
     "text": [
      "Epoch [100/1000], Loss: 0.1948\n",
      "Epoch [200/1000], Loss: 0.1764\n",
      "Epoch [300/1000], Loss: 0.1565\n",
      "Epoch [400/1000], Loss: 0.1337\n",
      "Epoch [500/1000], Loss: 0.1182\n",
      "Epoch [600/1000], Loss: 0.1057\n",
      "Epoch [700/1000], Loss: 0.0955\n",
      "Epoch [800/1000], Loss: 0.0869\n",
      "Epoch [900/1000], Loss: 0.0795\n",
      "Epoch [1000/1000], Loss: 0.0729\n"
     ]
    }
   ],
   "source": [
    "#Training Loop\n",
    "epochs = 1000\n",
    "for epoch in range(epochs):\n",
    "    #This resets the gradient\n",
    "    optimizer.zero_grad()\n",
    "    outputs = model(X_train) #foward pass\n",
    "    loss = criterion(outputs, y_train) #compute the loss\n",
    "    loss.backward() #Do backpropagation\n",
    "    optimizer.step() #update the weights\n",
    "\n",
    "    if (epoch + 1) % 100 == 0:\n",
    "        print(f\"Epoch [{epoch+1}/{epochs}], Loss: {loss.item():.4f}\")"
   ]
  },
  {
   "cell_type": "code",
   "execution_count": 14,
   "metadata": {},
   "outputs": [
    {
     "name": "stdout",
     "output_type": "stream",
     "text": [
      "Model Accuracy: 0.9210\n"
     ]
    },
    {
     "data": {
      "image/png": "[encoded data removed]",
      "text/plain": [
       "<Figure size 600x600 with 2 Axes>"
      ]
     },
     "metadata": {},
     "output_type": "display_data"
    }
   ],
   "source": [
    "from sklearn.metrics import accuracy_score, confusion_matrix\n",
    "import seaborn as sns\n",
    "import matplotlib.pyplot as plt\n",
    "\n",
    "#Make sure you can evalulate the model\n",
    "model.eval()\n",
    "\n",
    "\n",
    "# Disable gradient calculation for inference\n",
    "with torch.no_grad():\n",
    "    outputs = model(X_test)  # Forward pass\n",
    "    predictions = torch.argmax(outputs, dim=1)  # Convert logits to class labels\n",
    "\n",
    "# Compute accuracy\n",
    "accuracy = accuracy_score(y_test.numpy(), predictions.numpy())\n",
    "print(f\"Model Accuracy: {accuracy:.4f}\")\n",
    "\n",
    "# Compute confusion matrix\n",
    "cm = confusion_matrix(y_test.numpy(), predictions.numpy())\n",
    "\n",
    "# Plot confusion matrix\n",
    "plt.figure(figsize=(6, 6))\n",
    "sns.heatmap(cm, annot=True, fmt='d', cmap='Blues', xticklabels=target_mapping.keys(), yticklabels=target_mapping.keys())\n",
    "plt.xlabel(\"Predicted Label\")\n",
    "plt.ylabel(\"True Label\")\n",
    "plt.title(\"Confusion Matrix\")\n",
    "plt.show()"
   ]
  }
 ],
 "metadata": {
  "kernelspec": {
   "display_name": "Python 3",
   "language": "python",
   "name": "python3"
  },
  "language_info": {
   "codemirror_mode": {
    "name": "ipython",
    "version": 3
   },
   "file_extension": ".py",
   "mimetype": "text/x-python",
   "name": "python",
   "nbconvert_exporter": "python",
   "pygments_lexer": "ipython3",
   "version": "3.12.3"
  }
 },
 "nbformat": 4,
 "nbformat_minor": 2
}
