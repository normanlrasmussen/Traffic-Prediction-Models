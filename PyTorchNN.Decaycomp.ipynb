{
 "cells": [
  {
   "cell_type": "markdown",
   "metadata": {},
   "source": [
    "This file tests different scheduling rates to see if it improves the model"
   ]
  },
  {
   "cell_type": "code",
   "execution_count": 8,
   "metadata": {},
   "outputs": [],
   "source": [
    "import torch\n",
    "import torch.nn as nn\n",
    "import torch.optim as optim\n",
    "import pandas as pd\n",
    "from sklearn.model_selection import train_test_split\n",
    "from sklearn.metrics import accuracy_score, confusion_matrix\n",
    "import numpy as np\n",
    "from sklearn.preprocessing import MinMaxScaler\n",
    "import seaborn as sns\n",
    "import matplotlib.pyplot as plt"
   ]
  },
  {
   "cell_type": "code",
   "execution_count": 9,
   "metadata": {},
   "outputs": [],
   "source": [
    "\"\"\" This is the part of the file where it gets the data, transforms it into numbers, \n",
    "normalizes it, transfroms to tensors and gets the training and testing data\"\"\"\n",
    "\n",
    "#Import the Data set\n",
    "df = pd.read_csv(\"data\\\\Traffic.csv\")\n",
    "\n",
    "#Get the inputs and target\n",
    "X = df.drop(columns=\"Traffic Situation\")\n",
    "y = df[\"Traffic Situation\"]\n",
    "\n",
    "#There is only 31 days in the data, so we project it onto this circle\n",
    "X[\"day_of_the_month_sin\"] = np.sin(2 * np.pi * X[\"Date\"] / 31)\n",
    "X[\"day_of_the_month_cos\"] = np.cos(2 * np.pi * X[\"Date\"] / 31)\n",
    "X = X.drop(columns=\"Date\")\n",
    "\n",
    "# Well use this mappng to change the data into numerics\n",
    "day_mapping = {\n",
    "    'Monday': 0,\n",
    "    'Tuesday': 1,\n",
    "    'Wednesday': 2,\n",
    "    'Thursday': 3,\n",
    "    'Friday': 4,\n",
    "    'Saturday': 5,\n",
    "    'Sunday': 6\n",
    "}\n",
    "\n",
    "X['Day of the week'] = X['Day of the week'].map(day_mapping)\n",
    "\n",
    "#For the Time, I want to module it all as a cylce\n",
    "X[\"hour\"] = pd.to_datetime(X[\"Time\"], format='%I:%M:%S %p').dt.hour  \n",
    "X[\"minute\"] = pd.to_datetime(X[\"Time\"], format='%I:%M:%S %p').dt.minute  \n",
    "X[\"Time\"] = X[\"hour\"] * 60 + X[\"minute\"]\n",
    "\n",
    "X[\"Time_sin\"] = np.sin(2 * np.pi * X[\"Time\"] / 1425)\n",
    "X[\"Time_cos\"] = np.cos(2 * np.pi * X[\"Time\"] / 1425)\n",
    "X = X.drop(columns=['hour', 'minute', 'Time'])\n",
    "\n",
    "#Change the target to numericas\n",
    "target_mapping = {\n",
    "    'heavy': 0,\n",
    "    'high' : 1,\n",
    "    'normal' : 2,\n",
    "    'low' : 3\n",
    "}\n",
    "\n",
    "y = y.map(target_mapping)\n",
    "\n",
    "#Set the scalar to normalize data\n",
    "scaler = MinMaxScaler()\n",
    "\n",
    "columns_to_normalize = ['Day of the week', 'CarCount', 'BikeCount', 'BusCount', 'TruckCount', 'Total', \n",
    "                        'day_of_the_month_sin', 'day_of_the_month_cos', 'Time_sin', 'Time_cos']\n",
    "\n",
    "# Normalize the data\n",
    "X[columns_to_normalize] = scaler.fit_transform(X[columns_to_normalize])\n",
    "\n",
    "#Finally Convert the data to tensors\n",
    "X_tensor = torch.tensor(X.values, dtype=torch.float32)\n",
    "y_tensor = torch.tensor(y.values, dtype=torch.long)\n",
    "\n",
    "#Get the training and test data\n",
    "X_train, X_test, y_train, y_test = train_test_split(X_tensor, y_tensor, train_size=0.2, random_state=42)"
   ]
  },
  {
   "cell_type": "code",
   "execution_count": 10,
   "metadata": {},
   "outputs": [],
   "source": [
    "class TrafficNN(nn.Module):\n",
    "    def __init__(self):\n",
    "        super(TrafficNN, self).__init__()\n",
    "        self.layer1 = nn.Linear(10,200)\n",
    "        self.layer2 = nn.Linear(200,30)\n",
    "        self.layer3 = nn.Linear(30,4)\n",
    "        self.activation = nn.GELU()\n",
    "    def forward(self, x):\n",
    "        x = self.activation(self.layer1(x))\n",
    "        x = self.activation(self.layer2(x))\n",
    "        x = self.layer3(x)\n",
    "        return x"
   ]
  },
  {
   "cell_type": "code",
   "execution_count": 11,
   "metadata": {},
   "outputs": [],
   "source": [
    "def decay_tester(decay_list: list, model_class: type, epochs: int):\n",
    "    \n",
    "    best_step_size = 0.0\n",
    "    best_gamma = 0.0\n",
    "    best_accuracy = 0.0\n",
    "    best_model = None\n",
    "    criterion = nn.CrossEntropyLoss()\n",
    "    models = [model_class() for _ in decay_list]\n",
    "\n",
    "    #To run without a scheduler\n",
    "    model = TrafficNN()\n",
    "    optimizer = optim.Adam(model.parameters(), lr=0.001) \n",
    "    \n",
    "    model.train()\n",
    "\n",
    "    for epoch in range(epochs):\n",
    "        optimizer.zero_grad()\n",
    "        outputs = model(X_train) \n",
    "        loss = criterion(outputs, y_train) \n",
    "        loss.backward() \n",
    "        optimizer.step() \n",
    "    \n",
    "    model.eval()\n",
    "\n",
    "    with torch.no_grad():\n",
    "        outputs = model(X_test)  # Forward pass\n",
    "        predictions = torch.argmax(outputs, dim=1)  \n",
    "    accuracy = accuracy_score(y_test.numpy(), predictions.numpy())\n",
    "    print(f\"No Scheudling, Accuracy: {accuracy:.4f}\")\n",
    "\n",
    "    for i in range(len(decay_list)):\n",
    "        model = models[i]\n",
    "        optimizer = optim.Adam(model.parameters(), lr=0.001) \n",
    "        scheduler = optim.lr_scheduler.StepLR(optimizer, step_size=decay_list[i][0], gamma=decay_list[i][1])\n",
    "        \n",
    "        model.train()\n",
    "\n",
    "        for epoch in range(epochs):\n",
    "            optimizer.zero_grad()\n",
    "            outputs = model(X_train) \n",
    "            loss = criterion(outputs, y_train) \n",
    "            loss.backward() \n",
    "            optimizer.step() \n",
    "            scheduler.step()\n",
    "        \n",
    "        model.eval()\n",
    "\n",
    "        with torch.no_grad():\n",
    "            outputs = model(X_test)  # Forward pass\n",
    "            predictions = torch.argmax(outputs, dim=1)  \n",
    "        accuracy = accuracy_score(y_test.numpy(), predictions.numpy())\n",
    "        print(f\"Step Size: {decay_list[i][0]}, Gamma: {decay_list[i][1]}, Accuracy: {accuracy:.4f}\")\n",
    "\n",
    "        if accuracy > best_accuracy:\n",
    "            best_accuracy = accuracy\n",
    "            best_step_size = decay_list[i][0]\n",
    "            best_gamma = decay_list[i][1]\n",
    "            best_model = model\n",
    "    \n",
    "    return best_step_size, best_gamma, best_accuracy, best_model\n",
    "\n",
    "        \n",
    "\n"
   ]
  },
  {
   "cell_type": "markdown",
   "metadata": {},
   "source": [
    "The Data would sudgest that the lr scheduler does not really improve any of the calculations"
   ]
  },
  {
   "cell_type": "code",
   "execution_count": 12,
   "metadata": {},
   "outputs": [
    {
     "name": "stdout",
     "output_type": "stream",
     "text": [
      "No Scheudling, Accuracy: 0.9261\n",
      "Step Size: 10, Gamma: 0.9, Accuracy: 0.7509\n",
      "Step Size: 10, Gamma: 0.8, Accuracy: 0.7333\n",
      "Step Size: 10, Gamma: 0.75, Accuracy: 0.7375\n",
      "Step Size: 10, Gamma: 0.5, Accuracy: 0.5813\n",
      "Step Size: 20, Gamma: 0.9, Accuracy: 0.8790\n",
      "Step Size: 20, Gamma: 0.8, Accuracy: 0.7497\n",
      "Step Size: 20, Gamma: 0.75, Accuracy: 0.7362\n",
      "Step Size: 20, Gamma: 0.5, Accuracy: 0.7526\n",
      "Step Size: 50, Gamma: 0.9, Accuracy: 0.9185\n",
      "Step Size: 50, Gamma: 0.8, Accuracy: 0.8916\n",
      "Step Size: 50, Gamma: 0.75, Accuracy: 0.8568\n",
      "Step Size: 50, Gamma: 0.5, Accuracy: 0.7425\n",
      "Step Size: 100, Gamma: 0.9, Accuracy: 0.9240\n",
      "Step Size: 100, Gamma: 0.8, Accuracy: 0.9240\n",
      "Step Size: 100, Gamma: 0.75, Accuracy: 0.9185\n",
      "Step Size: 100, Gamma: 0.5, Accuracy: 0.8786\n",
      "Step Size: 250, Gamma: 0.9, Accuracy: 0.9265\n",
      "Step Size: 250, Gamma: 0.8, Accuracy: 0.9269\n",
      "Step Size: 250, Gamma: 0.75, Accuracy: 0.9223\n",
      "Step Size: 250, Gamma: 0.5, Accuracy: 0.9215\n",
      "Step Size: 500, Gamma: 0.9, Accuracy: 0.9265\n",
      "Step Size: 500, Gamma: 0.8, Accuracy: 0.9290\n",
      "Step Size: 500, Gamma: 0.75, Accuracy: 0.9248\n",
      "Step Size: 500, Gamma: 0.5, Accuracy: 0.9282\n",
      "500 0.8 0.9290214195716086\n"
     ]
    }
   ],
   "source": [
    "step_size_list = [10,20,50,100,250,500]\n",
    "gamma_list = [0.9, 0.8, 0.75, 0.5]\n",
    "decay_list = [[step_size, gamma] for step_size in step_size_list for gamma in gamma_list]\n",
    "\n",
    "best_step_size, best_gamma, best_accuracy, best_model = decay_tester(decay_list, TrafficNN, 1000)\n",
    "print(best_step_size, best_gamma, best_accuracy)"
   ]
  },
  {
   "cell_type": "code",
   "execution_count": 13,
   "metadata": {},
   "outputs": [
    {
     "name": "stdout",
     "output_type": "stream",
     "text": [
      "Model Accuracy: 0.9290\n"
     ]
    },
    {
     "data": {
      "image/png": "[encoded data removed]",
      "text/plain": [
       "<Figure size 600x600 with 2 Axes>"
      ]
     },
     "metadata": {},
     "output_type": "display_data"
    }
   ],
   "source": [
    "best_model.eval()\n",
    "\n",
    "with torch.no_grad():\n",
    "    outputs = best_model(X_test) \n",
    "    predictions = torch.argmax(outputs, dim=1)  \n",
    "\n",
    "# Compute accuracy\n",
    "accuracy = accuracy_score(y_test.numpy(), predictions.numpy())\n",
    "print(f\"Model Accuracy: {accuracy:.4f}\")\n",
    "\n",
    "# Compute confusion matrix\n",
    "cm = confusion_matrix(y_test.numpy(), predictions.numpy())\n",
    "\n",
    "# Plot confusion matrix\n",
    "plt.figure(figsize=(6, 6))\n",
    "sns.heatmap(cm, annot=True, fmt='d', cmap='Blues', xticklabels=target_mapping.keys(), yticklabels=target_mapping.keys())\n",
    "plt.xlabel(\"Predicted Label\")\n",
    "plt.ylabel(\"True Label\")\n",
    "plt.title(\"Confusion Matrix\")\n",
    "plt.show()"
   ]
  }
 ],
 "metadata": {
  "kernelspec": {
   "display_name": "Python 3",
   "language": "python",
   "name": "python3"
  },
  "language_info": {
   "codemirror_mode": {
    "name": "ipython",
    "version": 3
   },
   "file_extension": ".py",
   "mimetype": "text/x-python",
   "name": "python",
   "nbconvert_exporter": "python",
   "pygments_lexer": "ipython3",
   "version": "3.12.3"
  }
 },
 "nbformat": 4,
 "nbformat_minor": 2
}
