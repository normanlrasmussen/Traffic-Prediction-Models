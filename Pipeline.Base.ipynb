{
 "cells": [
  {
   "cell_type": "code",
   "execution_count": 35,
   "metadata": {},
   "outputs": [],
   "source": [
    "import numpy as np\n",
    "import pandas as pd\n",
    "from sklearn.model_selection import train_test_split, cross_val_score, GridSearchCV, RandomizedSearchCV\n",
    "from sklearn.ensemble import RandomForestClassifier\n",
    "from sklearn.linear_model import LogisticRegression\n",
    "from sklearn.pipeline import Pipeline\n",
    "from sklearn.compose import ColumnTransformer\n",
    "from sklearn.preprocessing import StandardScaler, OneHotEncoder\n",
    "from sklearn.impute import SimpleImputer\n",
    "from sklearn.ensemble import GradientBoostingClassifier\n",
    "from xgboost import XGBClassifier\n",
    "from sklearn.svm import SVC\n",
    "from sklearn.metrics import accuracy_score\n",
    "from sklearn.metrics import confusion_matrix, ConfusionMatrixDisplay\n",
    "import matplotlib.pyplot as plt"
   ]
  },
  {
   "cell_type": "code",
   "execution_count": 36,
   "metadata": {},
   "outputs": [],
   "source": [
    "\"\"\"\n",
    "This cell gets the data ready to get passed into a pipeline\n",
    "\"\"\"\n",
    "#Import the Data set\n",
    "df = pd.read_csv(\"data\\\\Traffic.csv\")\n",
    "\n",
    "#Get the inputs and target\n",
    "X = df.drop(columns=\"Traffic Situation\")\n",
    "y = df[\"Traffic Situation\"]\n",
    "\n",
    "# Well use this mappng to change the data into numerics\n",
    "day_mapping = {\n",
    "    'Monday': 0,\n",
    "    'Tuesday': 1,\n",
    "    'Wednesday': 2,\n",
    "    'Thursday': 3,\n",
    "    'Friday': 4,\n",
    "    'Saturday': 5,\n",
    "    'Sunday': 6\n",
    "}\n",
    "\n",
    "X['Day of the week'] = X['Day of the week'].map(day_mapping)\n",
    "\n",
    "\n",
    "#TODO Maybe Consider making the data cnyndrical\n",
    "#This turns time into just minutes as a numeric\n",
    "X[\"hour\"] = pd.to_datetime(X[\"Time\"], format='%I:%M:%S %p').dt.hour  \n",
    "X[\"minute\"] = pd.to_datetime(X[\"Time\"], format='%I:%M:%S %p').dt.minute  \n",
    "X[\"Time\"] = X[\"hour\"] * 60 + X[\"minute\"]\n",
    "X = X.drop(columns=['hour', 'minute'])\n",
    "\n",
    "#Change the target to numericas\n",
    "target_mapping = {\n",
    "    'heavy': 0,\n",
    "    'high' : 1,\n",
    "    'normal' : 2,\n",
    "    'low' : 3\n",
    "}\n",
    "\n",
    "y = y.map(target_mapping)\n",
    "\n",
    "#Get the training and test data\n",
    "X_train, X_test, y_train, y_test = train_test_split(X, y, train_size=0.2, random_state=42)"
   ]
  },
  {
   "cell_type": "code",
   "execution_count": 37,
   "metadata": {},
   "outputs": [],
   "source": [
    "# Define features\n",
    "#TODO, look at catergorical and non catergotical representation of date\n",
    "numeric_features = ['Date', 'Time', 'CarCount', 'BikeCount', 'BusCount', 'TruckCount', 'Total']\n",
    "categorical_features = ['Day of the week']\n",
    "\n",
    "# Numerical pipeline\n",
    "numerical_pipeline = Pipeline([\n",
    "    (\"scalar\", StandardScaler()) #We're gonna normalize the numeric data \n",
    "])\n",
    "\n",
    "#This is for the catergorical features\n",
    "categorical_pipeline = Pipeline([\n",
    "    (\"encoder\", OneHotEncoder(handle_unknown=\"ignore\")) #Shouldn't have to worry about unknowns \n",
    "])\n",
    "\n",
    "#Put it into one preprosser\n",
    "preprocessor = ColumnTransformer([\n",
    "    (\"num\", numerical_pipeline, numeric_features),\n",
    "    (\"cat\", categorical_pipeline, categorical_features)\n",
    "])"
   ]
  },
  {
   "cell_type": "code",
   "execution_count": 38,
   "metadata": {},
   "outputs": [
    {
     "name": "stdout",
     "output_type": "stream",
     "text": [
      "Gradient Boosting Accuracy: 0.9950\n"
     ]
    }
   ],
   "source": [
    "#This is a gradeient boosted pipeline\n",
    "gb_pipeline = Pipeline([\n",
    "    (\"preprocessor\", preprocessor),\n",
    "    (\"classifier\", GradientBoostingClassifier(n_estimators=100, learning_rate=0.1, max_depth=3, random_state=42)) #I Can mess around with all of these\n",
    "])\n",
    "\n",
    "#Train the model\n",
    "gb_pipeline.fit(X_train, y_train)\n",
    "\n",
    "# Make predictions\n",
    "y_pred = gb_pipeline.predict(X_test)\n",
    "\n",
    "# Evaluate performance\n",
    "print(f\"Gradient Boosting Accuracy: {accuracy_score(y_test, y_pred):.4f}\")"
   ]
  },
  {
   "cell_type": "code",
   "execution_count": 39,
   "metadata": {},
   "outputs": [
    {
     "name": "stdout",
     "output_type": "stream",
     "text": [
      "XGBoost Accuracy: 0.9966\n"
     ]
    }
   ],
   "source": [
    "#This one tests the XGB model\n",
    "xgb_pipeline = Pipeline([\n",
    "    (\"preprocessor\", preprocessor),\n",
    "    (\"classifier\", XGBClassifier(n_estimators=100, learning_rate=0.1, max_depth=3, eval_metric=\"logloss\", random_state=42))\n",
    "])\n",
    "#use_label_encoder=False is useful when there is catergorical vars\n",
    "\n",
    "# Train the model\n",
    "xgb_pipeline.fit(X_train, y_train)\n",
    "\n",
    "# Make predictions\n",
    "y_pred_xgb = xgb_pipeline.predict(X_test)\n",
    "\n",
    "# Evaluate performance\n",
    "print(f\"XGBoost Accuracy: {accuracy_score(y_test, y_pred_xgb):.4f}\")"
   ]
  },
  {
   "cell_type": "code",
   "execution_count": 40,
   "metadata": {},
   "outputs": [
    {
     "name": "stdout",
     "output_type": "stream",
     "text": [
      "Logistic Regression: Mean Accuracy = 0.8790\n",
      "Random Forest: Mean Accuracy = 0.9697\n",
      "SVM: Mean Accuracy = 0.8756\n"
     ]
    }
   ],
   "source": [
    "#This tests different models\n",
    "models = {\n",
    "    \"Logistic Regression\": LogisticRegression(max_iter=200),\n",
    "    \"Random Forest\": RandomForestClassifier(n_estimators=100, random_state=42),\n",
    "    \"SVM\": SVC()\n",
    "}\n",
    "\n",
    "for name, model in models.items():\n",
    "    pipeline = Pipeline([\n",
    "        (\"preprocessor\", preprocessor),\n",
    "        (\"classifier\", model)\n",
    "    ])\n",
    "\n",
    "    scores = cross_val_score(pipeline, X_train, y_train, cv=5, scoring=\"accuracy\")\n",
    "    #CV splits the data into 5 sets, and 5 times trains the data on each fold using the other folds for sccuracy\n",
    "    print(f\"{name}: Mean Accuracy = {scores.mean():.4f}\")"
   ]
  },
  {
   "cell_type": "code",
   "execution_count": 41,
   "metadata": {},
   "outputs": [
    {
     "name": "stdout",
     "output_type": "stream",
     "text": [
      "Best Parameters for XGBoost: {'classifier__learning_rate': 0.01, 'classifier__max_depth': 5, 'classifier__n_estimators': 50}\n",
      "This is the accuracy score: 0.9954\n"
     ]
    }
   ],
   "source": [
    "param_grid = {\n",
    "    \"classifier__n_estimators\": [50, 100, 200],\n",
    "    \"classifier__learning_rate\": [0.01, 0.1, 0.2],\n",
    "    \"classifier__max_depth\": [3, 5, 7]\n",
    "}\n",
    "\n",
    "grid_search = GridSearchCV(xgb_pipeline, param_grid, cv=5, scoring=\"accuracy\", n_jobs=-1)\n",
    "grid_search.fit(X_train, y_train)\n",
    "\n",
    "print(\"Best Parameters for XGBoost:\", grid_search.best_params_)\n",
    "\n",
    "y_pred_best = grid_search.best_estimator_.predict(X_test)\n",
    "print(f\"This is the accuracy score: {accuracy_score(y_test, y_pred_best):.4f}\")"
   ]
  },
  {
   "cell_type": "code",
   "execution_count": 42,
   "metadata": {},
   "outputs": [
    {
     "data": {
      "image/png": "[encoded data removed]",
      "text/plain": [
       "<Figure size 640x480 with 2 Axes>"
      ]
     },
     "metadata": {},
     "output_type": "display_data"
    }
   ],
   "source": [
    "# Compute the confusion matrix\n",
    "cm = confusion_matrix(y_test, y_pred_best)\n",
    "\n",
    "# Display the confusion matrix\n",
    "disp = ConfusionMatrixDisplay(confusion_matrix=cm, display_labels=grid_search.classes_)\n",
    "disp.plot(cmap=\"Blues\")  # You can change the colormap if desired\n",
    "plt.title(\"Confusion Matrix for Best XGBoost Model\")\n",
    "plt.show()"
   ]
  }
 ],
 "metadata": {
  "kernelspec": {
   "display_name": "Python 3",
   "language": "python",
   "name": "python3"
  },
  "language_info": {
   "codemirror_mode": {
    "name": "ipython",
    "version": 3
   },
   "file_extension": ".py",
   "mimetype": "text/x-python",
   "name": "python",
   "nbconvert_exporter": "python",
   "pygments_lexer": "ipython3",
   "version": "3.12.3"
  }
 },
 "nbformat": 4,
 "nbformat_minor": 2
}
